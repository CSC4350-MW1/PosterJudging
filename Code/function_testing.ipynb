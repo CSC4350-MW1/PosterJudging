{
 "cells": [
  {
   "cell_type": "code",
   "execution_count": 8,
   "metadata": {},
   "outputs": [],
   "source": [
    "import firebase_admin\n",
    "from firebase_admin import credentials\n",
    "from firebase_admin import firestore\n",
    "import json\n",
    "from judging import *\n"
   ]
  },
  {
   "cell_type": "code",
   "execution_count": 9,
   "metadata": {},
   "outputs": [],
   "source": [
    "# Use a service account.\n",
    "cred = credentials.Certificate('key.json')\n",
    "app = firebase_admin.initialize_app(cred)\n",
    "db = firestore.client()\n"
   ]
  },
  {
   "cell_type": "code",
   "execution_count": 10,
   "metadata": {},
   "outputs": [],
   "source": [
    "project1 = Project(mentor=\"aashok\", project_title=\"Underwater Simulations\", student_emails=[\"example_email1.gmail.com\"], student_names=[\"Student Name1\"], student_ids=['rsutradhar1'], is_undergrad=True)\n",
    "project2 = Project(mentor=\"wjohnson\", project_title=\"Networks\", student_emails=[\"example_email2.gmail.com\"], student_names=[\"Student Name2\"], student_ids=['asmith12'], is_undergrad=False)\n",
    "project3 = Project(mentor=\"asmith\", project_title=\"LISP programming\", student_emails=[\"example_email3.gmail.com\"], student_names=[\"Student Name3\"], student_ids=['askdflqasdf1'])\n",
    "projects = dict()\n",
    "projects[project1.project_id] = project1\n",
    "projects[project2.project_id] = project2\n",
    "projects[project3.project_id] = project3\n"
   ]
  },
  {
   "cell_type": "code",
   "execution_count": 11,
   "metadata": {},
   "outputs": [],
   "source": [
    "wjohnson = Grader(grader_id='wjohnson', grader_name='William Johnson', assigned_projects=[project1.project_id, project2.project_id])\n",
    "asmith = Grader(grader_id='asmith', grader_name='Andrew Smith', assigned_projects=[project2.project_id, project3.project_id])\n",
    "\n",
    "wjohnson.upload(db)\n",
    "asmith.upload(db)"
   ]
  },
  {
   "cell_type": "code",
   "execution_count": 12,
   "metadata": {},
   "outputs": [],
   "source": [
    "scores = []\n",
    "scores.append(Score(project_id=project1.project_id, grader_id=wjohnson.grader_id, score=[5,4,5,3,5,4,3], comments='Novel research'))\n",
    "scores.append(Score(project_id=project2.project_id, grader_id=wjohnson.grader_id, score=[2,4,2,3,2,4,3], comments='Novel research'))\n",
    "scores.append(Score(project_id=project3.project_id, grader_id=asmith.grader_id, score=[5,4,5,3,5,4,3], comments='Novel research'))\n",
    "scores.append(Score(project_id=project2.project_id, grader_id=asmith.grader_id, score=[2,4,2,3,2,4,3], comments='Novel research'))\n",
    "\n",
    "for score in scores:\n",
    "    score.upload(db)"
   ]
  },
  {
   "cell_type": "code",
   "execution_count": 13,
   "metadata": {},
   "outputs": [],
   "source": [
    "score_all_projects(scores, projects)\n",
    "\n",
    "project1.upload(db)\n",
    "project2.upload(db)\n",
    "project3.upload(db)\n"
   ]
  },
  {
   "cell_type": "code",
   "execution_count": 14,
   "metadata": {},
   "outputs": [],
   "source": [
    "firebase_admin.delete_app(app)"
   ]
  },
  {
   "cell_type": "code",
   "execution_count": 2,
   "metadata": {},
   "outputs": [
    {
     "name": "stdout",
     "output_type": "stream",
     "text": [
      "grading assignments created\n"
     ]
    }
   ],
   "source": [
    "import requests\n",
    "import json\n",
    "\n",
    "url = 'https://us-east1-demodayscorer.cloudfunctions.net/generate_grading_assignment'\n",
    "r = requests.get(url)\n",
    "print(r.text)\n"
   ]
  }
 ],
 "metadata": {
  "kernelspec": {
   "display_name": "Python 3.10.2 64-bit",
   "language": "python",
   "name": "python3"
  },
  "language_info": {
   "codemirror_mode": {
    "name": "ipython",
    "version": 3
   },
   "file_extension": ".py",
   "mimetype": "text/x-python",
   "name": "python",
   "nbconvert_exporter": "python",
   "pygments_lexer": "ipython3",
   "version": "3.10.2"
  },
  "orig_nbformat": 4,
  "vscode": {
   "interpreter": {
    "hash": "369f2c481f4da34e4445cda3fffd2e751bd1c4d706f27375911949ba6bb62e1c"
   }
  }
 },
 "nbformat": 4,
 "nbformat_minor": 2
}
